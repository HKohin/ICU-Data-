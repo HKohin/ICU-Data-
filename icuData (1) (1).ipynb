{
 "cells": [
  {
   "cell_type": "code",
   "execution_count": null,
   "metadata": {},
   "outputs": [],
   "source": []
  },
  {
   "cell_type": "code",
   "execution_count": 13,
   "metadata": {
    "colab": {},
    "colab_type": "code",
    "id": "vOgArlnr04bm"
   },
   "outputs": [
    {
     "ename": "ModuleNotFoundError",
     "evalue": "No module named 'tensorflow'",
     "output_type": "error",
     "traceback": [
      "\u001b[1;31m---------------------------------------------------------------------------\u001b[0m",
      "\u001b[1;31mModuleNotFoundError\u001b[0m                       Traceback (most recent call last)",
      "\u001b[1;32m<ipython-input-13-dd99c0db535b>\u001b[0m in \u001b[0;36m<module>\u001b[1;34m\u001b[0m\n\u001b[0;32m     35\u001b[0m \u001b[1;32mimport\u001b[0m \u001b[0mmatplotlib\u001b[0m\u001b[1;33m.\u001b[0m\u001b[0mpyplot\u001b[0m \u001b[1;32mas\u001b[0m \u001b[0mplt\u001b[0m\u001b[1;33m\u001b[0m\u001b[1;33m\u001b[0m\u001b[0m\n\u001b[0;32m     36\u001b[0m \u001b[0mget_ipython\u001b[0m\u001b[1;33m(\u001b[0m\u001b[1;33m)\u001b[0m\u001b[1;33m.\u001b[0m\u001b[0mrun_line_magic\u001b[0m\u001b[1;33m(\u001b[0m\u001b[1;34m'matplotlib'\u001b[0m\u001b[1;33m,\u001b[0m \u001b[1;34m'inline'\u001b[0m\u001b[1;33m)\u001b[0m\u001b[1;33m\u001b[0m\u001b[1;33m\u001b[0m\u001b[0m\n\u001b[1;32m---> 37\u001b[1;33m \u001b[1;32mimport\u001b[0m \u001b[0mtensorflow\u001b[0m \u001b[1;32mas\u001b[0m \u001b[0mtf\u001b[0m\u001b[1;33m\u001b[0m\u001b[1;33m\u001b[0m\u001b[0m\n\u001b[0m\u001b[0;32m     38\u001b[0m \u001b[1;33m\u001b[0m\u001b[0m\n\u001b[0;32m     39\u001b[0m \u001b[1;32mfrom\u001b[0m \u001b[0mkeras\u001b[0m \u001b[1;32mimport\u001b[0m \u001b[0mmodels\u001b[0m\u001b[1;33m,\u001b[0m \u001b[0mregularizers\u001b[0m\u001b[1;33m,\u001b[0m \u001b[0mlayers\u001b[0m\u001b[1;33m,\u001b[0m \u001b[0moptimizers\u001b[0m\u001b[1;33m,\u001b[0m \u001b[0mlosses\u001b[0m\u001b[1;33m,\u001b[0m \u001b[0mmetrics\u001b[0m\u001b[1;33m\u001b[0m\u001b[1;33m\u001b[0m\u001b[0m\n",
      "\u001b[1;31mModuleNotFoundError\u001b[0m: No module named 'tensorflow'"
     ]
    }
   ],
   "source": [
    "\n",
    "\n",
    "import pandas as pd\n",
    "import numpy as np\n",
    "import random as rnd\n",
    "import pprint\n",
    "from itertools import cycle, islice\n",
    "import numpy as np\n",
    "\n",
    "from scipy.stats import multivariate_normal\n",
    "\n",
    "from sklearn.model_selection import train_test_split\n",
    "from sklearn import model_selection, preprocessing\n",
    "from sklearn.metrics import classification_report, confusion_matrix, accuracy_score\n",
    "from sklearn.model_selection import cross_val_score, GridSearchCV, RandomizedSearchCV,KFold, cross_val_predict, StratifiedKFold, train_test_split, learning_curve, ShuffleSplit\n",
    "from sklearn.linear_model import LogisticRegression\n",
    "from sklearn.tree import DecisionTreeClassifier\n",
    "from sklearn.neighbors import KNeighborsClassifier\n",
    "from sklearn.discriminant_analysis import LinearDiscriminantAnalysis\n",
    "from sklearn.naive_bayes import GaussianNB\n",
    "from sklearn.svm import SVC \n",
    "from sklearn.linear_model import SGDClassifier\n",
    "from sklearn.ensemble import RandomForestClassifier\n",
    "from sklearn.model_selection import GridSearchCV, ShuffleSplit\n",
    "from sklearn.metrics import confusion_matrix, precision_score, recall_score, accuracy_score, f1_score\n",
    "from sklearn.model_selection import cross_val_predict\n",
    "from sklearn.metrics import confusion_matrix\n",
    "from sklearn.metrics import precision_recall_curve, average_precision_score, auc\n",
    "from inspect import signature\n",
    "\n",
    "from sklearn.decomposition import PCA\n",
    "\n",
    "from sklearn.metrics import roc_curve\n",
    "from sklearn.metrics import roc_auc_score\n",
    "\n",
    "import seaborn as sns\n",
    "import matplotlib.pyplot as plt\n",
    "%matplotlib inline\n",
    "import tensorflow as tf\n",
    "\n",
    "from keras import models, regularizers, layers, optimizers, losses, metrics\n",
    "from keras.models import Sequential\n",
    "from keras.layers import Dense\n",
    "from keras.utils import np_utils\n",
    "\n",
    "import warnings\n",
    "warnings.filterwarnings('ignore')\n",
    "import os\n",
    "#print(os.listdir(\"../input\"))"
   ]
  },
  {
   "cell_type": "code",
   "execution_count": 4,
   "metadata": {},
   "outputs": [
    {
     "ename": "SyntaxError",
     "evalue": "invalid syntax (<ipython-input-4-20b7ca8c7f61>, line 1)",
     "output_type": "error",
     "traceback": [
      "\u001b[1;36m  File \u001b[1;32m\"<ipython-input-4-20b7ca8c7f61>\"\u001b[1;36m, line \u001b[1;32m1\u001b[0m\n\u001b[1;33m    pip3 install -U pip virtualenv\u001b[0m\n\u001b[1;37m               ^\u001b[0m\n\u001b[1;31mSyntaxError\u001b[0m\u001b[1;31m:\u001b[0m invalid syntax\n"
     ]
    }
   ],
   "source": [
    "pip3 install -U pip virtualenv"
   ]
  },
  {
   "cell_type": "code",
   "execution_count": 0,
   "metadata": {
    "colab": {
     "base_uri": "https://localhost:8080/",
     "height": 52
    },
    "colab_type": "code",
    "id": "JtFBNWVW83zR",
    "outputId": "935b3dd1-c754-4d5c-923b-18f36cfbd85a"
   },
   "outputs": [
    {
     "name": "stdout",
     "output_type": "stream",
     "text": [
      "With id (58976, 28)\n",
      "No id (58976, 27)\n"
     ]
    }
   ],
   "source": [
    "# Load MIMIC2 data \n",
    "\n",
    "data = pd.read_csv('mimic3c.csv')\n",
    "print(\"With id\", data.shape)\n",
    "\n",
    "data_full = data.drop('hadm_id', 1)\n",
    "print(\"No id\",data_full.shape)"
   ]
  },
  {
   "cell_type": "code",
   "execution_count": 0,
   "metadata": {
    "colab": {
     "base_uri": "https://localhost:8080/",
     "height": 894
    },
    "colab_type": "code",
    "id": "KnGnzYsi-JFM",
    "outputId": "170d71e1-d722-4efe-dd8c-3d03c5a2a60f"
   },
   "outputs": [
    {
     "name": "stdout",
     "output_type": "stream",
     "text": [
      "(58976, 27)\n",
      "<class 'pandas.core.frame.DataFrame'>\n",
      "RangeIndex: 58976 entries, 0 to 58975\n",
      "Data columns (total 27 columns):\n",
      "gender              58976 non-null object\n",
      "age                 58976 non-null int64\n",
      "LOSdays             58976 non-null float64\n",
      "admit_type          58976 non-null object\n",
      "admit_location      58976 non-null object\n",
      "AdmitDiagnosis      58951 non-null object\n",
      "insurance           58976 non-null object\n",
      "religion            58518 non-null object\n",
      "marital_status      48848 non-null object\n",
      "ethnicity           58976 non-null object\n",
      "NumCallouts         58976 non-null float64\n",
      "NumDiagnosis        58976 non-null float64\n",
      "NumProcs            58976 non-null float64\n",
      "AdmitProcedure      58976 non-null object\n",
      "NumCPTevents        58976 non-null float64\n",
      "NumInput            58976 non-null float64\n",
      "NumLabs             58976 non-null float64\n",
      "NumMicroLabs        58976 non-null float64\n",
      "NumNotes            58976 non-null float64\n",
      "NumOutput           58976 non-null float64\n",
      "NumRx               58976 non-null float64\n",
      "NumProcEvents       58976 non-null float64\n",
      "NumTransfers        58976 non-null float64\n",
      "NumChartEvents      58976 non-null float64\n",
      "ExpiredHospital     58976 non-null int64\n",
      "TotalNumInteract    58976 non-null float64\n",
      "LOSgroupNum         58976 non-null int64\n",
      "dtypes: float64(15), int64(3), object(9)\n",
      "memory usage: 12.1+ MB\n"
     ]
    },
    {
     "data": {
      "text/html": [
       "<div>\n",
       "<style scoped>\n",
       "    .dataframe tbody tr th:only-of-type {\n",
       "        vertical-align: middle;\n",
       "    }\n",
       "\n",
       "    .dataframe tbody tr th {\n",
       "        vertical-align: top;\n",
       "    }\n",
       "\n",
       "    .dataframe thead th {\n",
       "        text-align: right;\n",
       "    }\n",
       "</style>\n",
       "<table border=\"1\" class=\"dataframe\">\n",
       "  <thead>\n",
       "    <tr style=\"text-align: right;\">\n",
       "      <th></th>\n",
       "      <th>age</th>\n",
       "      <th>LOSdays</th>\n",
       "      <th>NumCallouts</th>\n",
       "      <th>NumDiagnosis</th>\n",
       "      <th>NumProcs</th>\n",
       "      <th>NumCPTevents</th>\n",
       "      <th>NumInput</th>\n",
       "      <th>NumLabs</th>\n",
       "      <th>NumMicroLabs</th>\n",
       "      <th>NumNotes</th>\n",
       "      <th>NumOutput</th>\n",
       "      <th>NumRx</th>\n",
       "      <th>NumProcEvents</th>\n",
       "      <th>NumTransfers</th>\n",
       "      <th>NumChartEvents</th>\n",
       "      <th>ExpiredHospital</th>\n",
       "      <th>TotalNumInteract</th>\n",
       "      <th>LOSgroupNum</th>\n",
       "    </tr>\n",
       "  </thead>\n",
       "  <tbody>\n",
       "    <tr>\n",
       "      <th>count</th>\n",
       "      <td>58976.000000</td>\n",
       "      <td>58976.000000</td>\n",
       "      <td>58976.000000</td>\n",
       "      <td>58976.00000</td>\n",
       "      <td>58976.000000</td>\n",
       "      <td>58976.000000</td>\n",
       "      <td>58976.000000</td>\n",
       "      <td>58976.000000</td>\n",
       "      <td>58976.000000</td>\n",
       "      <td>58976.000000</td>\n",
       "      <td>58976.000000</td>\n",
       "      <td>58976.000000</td>\n",
       "      <td>58976.000000</td>\n",
       "      <td>58976.000000</td>\n",
       "      <td>58976.000000</td>\n",
       "      <td>58976.000000</td>\n",
       "      <td>58976.000000</td>\n",
       "      <td>58976.000000</td>\n",
       "    </tr>\n",
       "    <tr>\n",
       "      <th>mean</th>\n",
       "      <td>53.005884</td>\n",
       "      <td>10.114955</td>\n",
       "      <td>0.099374</td>\n",
       "      <td>2.67596</td>\n",
       "      <td>0.785599</td>\n",
       "      <td>1.074118</td>\n",
       "      <td>30.379017</td>\n",
       "      <td>46.421124</td>\n",
       "      <td>1.219913</td>\n",
       "      <td>6.464789</td>\n",
       "      <td>7.111594</td>\n",
       "      <td>9.593702</td>\n",
       "      <td>0.691903</td>\n",
       "      <td>1.093313</td>\n",
       "      <td>528.505172</td>\n",
       "      <td>0.099261</td>\n",
       "      <td>636.115579</td>\n",
       "      <td>2.360248</td>\n",
       "    </tr>\n",
       "    <tr>\n",
       "      <th>std</th>\n",
       "      <td>26.028120</td>\n",
       "      <td>12.456231</td>\n",
       "      <td>0.163437</td>\n",
       "      <td>8.26559</td>\n",
       "      <td>3.558090</td>\n",
       "      <td>2.027148</td>\n",
       "      <td>62.430163</td>\n",
       "      <td>76.061561</td>\n",
       "      <td>4.236693</td>\n",
       "      <td>106.709903</td>\n",
       "      <td>7.551822</td>\n",
       "      <td>12.601338</td>\n",
       "      <td>2.117615</td>\n",
       "      <td>3.169441</td>\n",
       "      <td>640.250063</td>\n",
       "      <td>0.299014</td>\n",
       "      <td>783.938087</td>\n",
       "      <td>1.130337</td>\n",
       "    </tr>\n",
       "    <tr>\n",
       "      <th>min</th>\n",
       "      <td>0.000000</td>\n",
       "      <td>0.000000</td>\n",
       "      <td>0.000000</td>\n",
       "      <td>0.00000</td>\n",
       "      <td>0.000000</td>\n",
       "      <td>0.000000</td>\n",
       "      <td>0.000000</td>\n",
       "      <td>0.000000</td>\n",
       "      <td>0.000000</td>\n",
       "      <td>0.000000</td>\n",
       "      <td>0.000000</td>\n",
       "      <td>0.000000</td>\n",
       "      <td>0.000000</td>\n",
       "      <td>0.000000</td>\n",
       "      <td>0.000000</td>\n",
       "      <td>0.000000</td>\n",
       "      <td>0.000000</td>\n",
       "      <td>1.000000</td>\n",
       "    </tr>\n",
       "    <tr>\n",
       "      <th>25%</th>\n",
       "      <td>43.000000</td>\n",
       "      <td>3.710000</td>\n",
       "      <td>0.000000</td>\n",
       "      <td>0.82000</td>\n",
       "      <td>0.210000</td>\n",
       "      <td>0.000000</td>\n",
       "      <td>4.850000</td>\n",
       "      <td>26.980000</td>\n",
       "      <td>0.160000</td>\n",
       "      <td>0.140000</td>\n",
       "      <td>1.750000</td>\n",
       "      <td>4.330000</td>\n",
       "      <td>0.000000</td>\n",
       "      <td>0.380000</td>\n",
       "      <td>207.410000</td>\n",
       "      <td>0.000000</td>\n",
       "      <td>267.407500</td>\n",
       "      <td>1.000000</td>\n",
       "    </tr>\n",
       "    <tr>\n",
       "      <th>50%</th>\n",
       "      <td>59.000000</td>\n",
       "      <td>6.460000</td>\n",
       "      <td>0.000000</td>\n",
       "      <td>1.41000</td>\n",
       "      <td>0.420000</td>\n",
       "      <td>0.970000</td>\n",
       "      <td>13.990000</td>\n",
       "      <td>38.520000</td>\n",
       "      <td>0.510000</td>\n",
       "      <td>0.330000</td>\n",
       "      <td>5.310000</td>\n",
       "      <td>8.370000</td>\n",
       "      <td>0.000000</td>\n",
       "      <td>0.650000</td>\n",
       "      <td>417.875000</td>\n",
       "      <td>0.000000</td>\n",
       "      <td>497.335000</td>\n",
       "      <td>2.000000</td>\n",
       "    </tr>\n",
       "    <tr>\n",
       "      <th>75%</th>\n",
       "      <td>73.000000</td>\n",
       "      <td>11.790000</td>\n",
       "      <td>0.160000</td>\n",
       "      <td>2.40000</td>\n",
       "      <td>0.710000</td>\n",
       "      <td>1.560000</td>\n",
       "      <td>34.360000</td>\n",
       "      <td>50.860000</td>\n",
       "      <td>1.350000</td>\n",
       "      <td>0.770000</td>\n",
       "      <td>10.490000</td>\n",
       "      <td>12.270000</td>\n",
       "      <td>0.880000</td>\n",
       "      <td>1.060000</td>\n",
       "      <td>700.302500</td>\n",
       "      <td>0.000000</td>\n",
       "      <td>811.382500</td>\n",
       "      <td>3.000000</td>\n",
       "    </tr>\n",
       "    <tr>\n",
       "      <th>max</th>\n",
       "      <td>89.000000</td>\n",
       "      <td>294.630000</td>\n",
       "      <td>4.760000</td>\n",
       "      <td>450.00000</td>\n",
       "      <td>275.000000</td>\n",
       "      <td>225.000000</td>\n",
       "      <td>6825.000000</td>\n",
       "      <td>5175.000000</td>\n",
       "      <td>375.000000</td>\n",
       "      <td>7500.000000</td>\n",
       "      <td>375.000000</td>\n",
       "      <td>750.000000</td>\n",
       "      <td>100.000000</td>\n",
       "      <td>125.000000</td>\n",
       "      <td>49325.000000</td>\n",
       "      <td>1.000000</td>\n",
       "      <td>68600.000000</td>\n",
       "      <td>4.000000</td>\n",
       "    </tr>\n",
       "  </tbody>\n",
       "</table>\n",
       "</div>"
      ],
      "text/plain": [
       "                age       LOSdays  ...  TotalNumInteract   LOSgroupNum\n",
       "count  58976.000000  58976.000000  ...      58976.000000  58976.000000\n",
       "mean      53.005884     10.114955  ...        636.115579      2.360248\n",
       "std       26.028120     12.456231  ...        783.938087      1.130337\n",
       "min        0.000000      0.000000  ...          0.000000      1.000000\n",
       "25%       43.000000      3.710000  ...        267.407500      1.000000\n",
       "50%       59.000000      6.460000  ...        497.335000      2.000000\n",
       "75%       73.000000     11.790000  ...        811.382500      3.000000\n",
       "max       89.000000    294.630000  ...      68600.000000      4.000000\n",
       "\n",
       "[8 rows x 18 columns]"
      ]
     },
     "execution_count": 9,
     "metadata": {
      "tags": []
     },
     "output_type": "execute_result"
    }
   ],
   "source": [
    "print(data_full.shape)\n",
    "data_full.info()\n",
    "data_full.describe()"
   ]
  },
  {
   "cell_type": "code",
   "execution_count": 0,
   "metadata": {
    "colab": {
     "base_uri": "https://localhost:8080/",
     "height": 667
    },
    "colab_type": "code",
    "id": "NgiZ-YdX-Qie",
    "outputId": "999cb3b1-d874-43d4-8ac5-a5b11a869e91"
   },
   "outputs": [
    {
     "data": {
      "text/html": [
       "<div>\n",
       "<style scoped>\n",
       "    .dataframe tbody tr th:only-of-type {\n",
       "        vertical-align: middle;\n",
       "    }\n",
       "\n",
       "    .dataframe tbody tr th {\n",
       "        vertical-align: top;\n",
       "    }\n",
       "\n",
       "    .dataframe thead th {\n",
       "        text-align: right;\n",
       "    }\n",
       "</style>\n",
       "<table border=\"1\" class=\"dataframe\">\n",
       "  <thead>\n",
       "    <tr style=\"text-align: right;\">\n",
       "      <th></th>\n",
       "      <th>gender</th>\n",
       "      <th>age</th>\n",
       "      <th>LOSdays</th>\n",
       "      <th>admit_type</th>\n",
       "      <th>admit_location</th>\n",
       "      <th>AdmitDiagnosis</th>\n",
       "      <th>insurance</th>\n",
       "      <th>religion</th>\n",
       "      <th>marital_status</th>\n",
       "      <th>ethnicity</th>\n",
       "      <th>NumCallouts</th>\n",
       "      <th>NumDiagnosis</th>\n",
       "      <th>NumProcs</th>\n",
       "      <th>AdmitProcedure</th>\n",
       "      <th>NumCPTevents</th>\n",
       "      <th>NumInput</th>\n",
       "      <th>NumLabs</th>\n",
       "      <th>NumMicroLabs</th>\n",
       "      <th>NumNotes</th>\n",
       "      <th>NumOutput</th>\n",
       "      <th>NumRx</th>\n",
       "      <th>NumProcEvents</th>\n",
       "      <th>NumTransfers</th>\n",
       "      <th>NumChartEvents</th>\n",
       "      <th>ExpiredHospital</th>\n",
       "      <th>TotalNumInteract</th>\n",
       "      <th>LOSgroupNum</th>\n",
       "    </tr>\n",
       "  </thead>\n",
       "  <tbody>\n",
       "    <tr>\n",
       "      <th>0</th>\n",
       "      <td>F</td>\n",
       "      <td>35</td>\n",
       "      <td>6.17</td>\n",
       "      <td>EMERGENCY</td>\n",
       "      <td>CLINIC REFERRAL/PREMATURE</td>\n",
       "      <td>DIABETIC KETOACIDOSIS</td>\n",
       "      <td>Private</td>\n",
       "      <td>PROTESTANT QUAKER</td>\n",
       "      <td>DIVORCED</td>\n",
       "      <td>WHITE</td>\n",
       "      <td>0.16</td>\n",
       "      <td>2.59</td>\n",
       "      <td>0.00</td>\n",
       "      <td>na</td>\n",
       "      <td>1.30</td>\n",
       "      <td>25.12</td>\n",
       "      <td>43.44</td>\n",
       "      <td>0.65</td>\n",
       "      <td>0.05</td>\n",
       "      <td>5.19</td>\n",
       "      <td>14.91</td>\n",
       "      <td>1.13</td>\n",
       "      <td>0.65</td>\n",
       "      <td>398.70</td>\n",
       "      <td>0</td>\n",
       "      <td>493.89</td>\n",
       "      <td>2</td>\n",
       "    </tr>\n",
       "    <tr>\n",
       "      <th>1</th>\n",
       "      <td>M</td>\n",
       "      <td>59</td>\n",
       "      <td>4.04</td>\n",
       "      <td>EMERGENCY</td>\n",
       "      <td>EMERGENCY ROOM ADMIT</td>\n",
       "      <td>UPPER GI BLEED</td>\n",
       "      <td>Private</td>\n",
       "      <td>NOT SPECIFIED</td>\n",
       "      <td>SINGLE</td>\n",
       "      <td>WHITE</td>\n",
       "      <td>0.25</td>\n",
       "      <td>2.23</td>\n",
       "      <td>0.99</td>\n",
       "      <td>Endosc control gast hem</td>\n",
       "      <td>1.98</td>\n",
       "      <td>13.61</td>\n",
       "      <td>55.94</td>\n",
       "      <td>1.24</td>\n",
       "      <td>1.59</td>\n",
       "      <td>5.45</td>\n",
       "      <td>7.18</td>\n",
       "      <td>0.99</td>\n",
       "      <td>1.24</td>\n",
       "      <td>373.02</td>\n",
       "      <td>0</td>\n",
       "      <td>465.71</td>\n",
       "      <td>2</td>\n",
       "    </tr>\n",
       "    <tr>\n",
       "      <th>2</th>\n",
       "      <td>F</td>\n",
       "      <td>48</td>\n",
       "      <td>12.04</td>\n",
       "      <td>EMERGENCY</td>\n",
       "      <td>EMERGENCY ROOM ADMIT</td>\n",
       "      <td>COPD FLARE</td>\n",
       "      <td>Private</td>\n",
       "      <td>NOT SPECIFIED</td>\n",
       "      <td>SINGLE</td>\n",
       "      <td>BLACK/AFRICAN AMERICAN</td>\n",
       "      <td>0.00</td>\n",
       "      <td>0.75</td>\n",
       "      <td>0.17</td>\n",
       "      <td>Non-invasive mech vent</td>\n",
       "      <td>0.83</td>\n",
       "      <td>11.46</td>\n",
       "      <td>33.39</td>\n",
       "      <td>0.33</td>\n",
       "      <td>0.15</td>\n",
       "      <td>4.15</td>\n",
       "      <td>6.23</td>\n",
       "      <td>0.00</td>\n",
       "      <td>0.33</td>\n",
       "      <td>286.21</td>\n",
       "      <td>0</td>\n",
       "      <td>344.00</td>\n",
       "      <td>4</td>\n",
       "    </tr>\n",
       "    <tr>\n",
       "      <th>3</th>\n",
       "      <td>F</td>\n",
       "      <td>73</td>\n",
       "      <td>7.29</td>\n",
       "      <td>EMERGENCY</td>\n",
       "      <td>EMERGENCY ROOM ADMIT</td>\n",
       "      <td>BOWEL OBSTRUCTION</td>\n",
       "      <td>Private</td>\n",
       "      <td>JEWISH</td>\n",
       "      <td>MARRIED</td>\n",
       "      <td>WHITE</td>\n",
       "      <td>0.41</td>\n",
       "      <td>0.69</td>\n",
       "      <td>0.27</td>\n",
       "      <td>Part sm bowel resect NEC</td>\n",
       "      <td>0.69</td>\n",
       "      <td>20.30</td>\n",
       "      <td>32.24</td>\n",
       "      <td>0.69</td>\n",
       "      <td>0.17</td>\n",
       "      <td>9.05</td>\n",
       "      <td>11.52</td>\n",
       "      <td>0.00</td>\n",
       "      <td>0.96</td>\n",
       "      <td>526.06</td>\n",
       "      <td>0</td>\n",
       "      <td>603.05</td>\n",
       "      <td>2</td>\n",
       "    </tr>\n",
       "    <tr>\n",
       "      <th>4</th>\n",
       "      <td>M</td>\n",
       "      <td>60</td>\n",
       "      <td>4.88</td>\n",
       "      <td>EMERGENCY</td>\n",
       "      <td>TRANSFER FROM HOSP/EXTRAM</td>\n",
       "      <td>CORONARY ARTERY DISEASE</td>\n",
       "      <td>Private</td>\n",
       "      <td>CATHOLIC</td>\n",
       "      <td>MARRIED</td>\n",
       "      <td>WHITE</td>\n",
       "      <td>0.00</td>\n",
       "      <td>3.69</td>\n",
       "      <td>0.82</td>\n",
       "      <td>Aortocor bypas-3 cor art</td>\n",
       "      <td>2.25</td>\n",
       "      <td>20.49</td>\n",
       "      <td>50.61</td>\n",
       "      <td>0.61</td>\n",
       "      <td>0.34</td>\n",
       "      <td>16.19</td>\n",
       "      <td>25.00</td>\n",
       "      <td>2.87</td>\n",
       "      <td>2.05</td>\n",
       "      <td>554.92</td>\n",
       "      <td>0</td>\n",
       "      <td>679.84</td>\n",
       "      <td>2</td>\n",
       "    </tr>\n",
       "    <tr>\n",
       "      <th>5</th>\n",
       "      <td>F</td>\n",
       "      <td>54</td>\n",
       "      <td>4.38</td>\n",
       "      <td>ELECTIVE</td>\n",
       "      <td>PHYS REFERRAL/NORMAL DELI</td>\n",
       "      <td>RENAL MASS LEFT/SDA</td>\n",
       "      <td>Private</td>\n",
       "      <td>EPISCOPALIAN</td>\n",
       "      <td>MARRIED</td>\n",
       "      <td>WHITE</td>\n",
       "      <td>0.23</td>\n",
       "      <td>1.14</td>\n",
       "      <td>0.68</td>\n",
       "      <td>Nephroureterectomy</td>\n",
       "      <td>1.83</td>\n",
       "      <td>6.62</td>\n",
       "      <td>30.59</td>\n",
       "      <td>0.00</td>\n",
       "      <td>0.11</td>\n",
       "      <td>7.99</td>\n",
       "      <td>9.13</td>\n",
       "      <td>1.14</td>\n",
       "      <td>0.91</td>\n",
       "      <td>448.63</td>\n",
       "      <td>0</td>\n",
       "      <td>509.00</td>\n",
       "      <td>2</td>\n",
       "    </tr>\n",
       "    <tr>\n",
       "      <th>6</th>\n",
       "      <td>M</td>\n",
       "      <td>21</td>\n",
       "      <td>14.38</td>\n",
       "      <td>EMERGENCY</td>\n",
       "      <td>CLINIC REFERRAL/PREMATURE</td>\n",
       "      <td>MOTOR VEHICLE ACCIDENT WITH UNSPECIFIED INJURIES</td>\n",
       "      <td>Medicaid</td>\n",
       "      <td>NOT SPECIFIED</td>\n",
       "      <td>SINGLE</td>\n",
       "      <td>HISPANIC OR LATINO</td>\n",
       "      <td>0.07</td>\n",
       "      <td>0.97</td>\n",
       "      <td>1.04</td>\n",
       "      <td>Debrid opn fx-femur</td>\n",
       "      <td>3.13</td>\n",
       "      <td>62.38</td>\n",
       "      <td>43.46</td>\n",
       "      <td>1.88</td>\n",
       "      <td>0.21</td>\n",
       "      <td>18.01</td>\n",
       "      <td>9.94</td>\n",
       "      <td>4.10</td>\n",
       "      <td>0.21</td>\n",
       "      <td>1337.13</td>\n",
       "      <td>0</td>\n",
       "      <td>1482.53</td>\n",
       "      <td>4</td>\n",
       "    </tr>\n",
       "    <tr>\n",
       "      <th>7</th>\n",
       "      <td>M</td>\n",
       "      <td>67</td>\n",
       "      <td>10.08</td>\n",
       "      <td>EMERGENCY</td>\n",
       "      <td>TRANSFER FROM HOSP/EXTRAM</td>\n",
       "      <td>CORONARY ARTERY DISEASE</td>\n",
       "      <td>Medicare</td>\n",
       "      <td>CATHOLIC</td>\n",
       "      <td>MARRIED</td>\n",
       "      <td>WHITE</td>\n",
       "      <td>0.10</td>\n",
       "      <td>1.09</td>\n",
       "      <td>0.40</td>\n",
       "      <td>1 int mam-cor art bypass</td>\n",
       "      <td>1.09</td>\n",
       "      <td>19.54</td>\n",
       "      <td>38.49</td>\n",
       "      <td>0.30</td>\n",
       "      <td>0.15</td>\n",
       "      <td>15.48</td>\n",
       "      <td>14.48</td>\n",
       "      <td>2.28</td>\n",
       "      <td>0.60</td>\n",
       "      <td>524.11</td>\n",
       "      <td>0</td>\n",
       "      <td>618.11</td>\n",
       "      <td>3</td>\n",
       "    </tr>\n",
       "    <tr>\n",
       "      <th>8</th>\n",
       "      <td>F</td>\n",
       "      <td>49</td>\n",
       "      <td>0.63</td>\n",
       "      <td>ELECTIVE</td>\n",
       "      <td>PHYS REFERRAL/NORMAL DELI</td>\n",
       "      <td>RIGHT SHOULDER ADHESIVE CAPSULITIS/SDA</td>\n",
       "      <td>Medicaid</td>\n",
       "      <td>CATHOLIC</td>\n",
       "      <td>SINGLE</td>\n",
       "      <td>WHITE</td>\n",
       "      <td>0.00</td>\n",
       "      <td>12.70</td>\n",
       "      <td>4.76</td>\n",
       "      <td>Rep recur shlder disloc</td>\n",
       "      <td>3.17</td>\n",
       "      <td>0.00</td>\n",
       "      <td>0.00</td>\n",
       "      <td>0.00</td>\n",
       "      <td>0.00</td>\n",
       "      <td>0.00</td>\n",
       "      <td>0.00</td>\n",
       "      <td>0.00</td>\n",
       "      <td>4.76</td>\n",
       "      <td>0.00</td>\n",
       "      <td>0</td>\n",
       "      <td>25.39</td>\n",
       "      <td>1</td>\n",
       "    </tr>\n",
       "    <tr>\n",
       "      <th>9</th>\n",
       "      <td>M</td>\n",
       "      <td>55</td>\n",
       "      <td>6.17</td>\n",
       "      <td>EMERGENCY</td>\n",
       "      <td>CLINIC REFERRAL/PREMATURE</td>\n",
       "      <td>PNEUMONIA</td>\n",
       "      <td>Medicare</td>\n",
       "      <td>PROTESTANT QUAKER</td>\n",
       "      <td>SINGLE</td>\n",
       "      <td>WHITE</td>\n",
       "      <td>0.00</td>\n",
       "      <td>1.78</td>\n",
       "      <td>0.81</td>\n",
       "      <td>Temporary tracheostomy</td>\n",
       "      <td>2.43</td>\n",
       "      <td>25.93</td>\n",
       "      <td>34.36</td>\n",
       "      <td>0.81</td>\n",
       "      <td>0.21</td>\n",
       "      <td>16.53</td>\n",
       "      <td>10.05</td>\n",
       "      <td>1.13</td>\n",
       "      <td>0.49</td>\n",
       "      <td>1221.39</td>\n",
       "      <td>0</td>\n",
       "      <td>1315.92</td>\n",
       "      <td>2</td>\n",
       "    </tr>\n",
       "  </tbody>\n",
       "</table>\n",
       "</div>"
      ],
      "text/plain": [
       "  gender  age  LOSdays  ... ExpiredHospital TotalNumInteract LOSgroupNum\n",
       "0      F   35     6.17  ...               0           493.89           2\n",
       "1      M   59     4.04  ...               0           465.71           2\n",
       "2      F   48    12.04  ...               0           344.00           4\n",
       "3      F   73     7.29  ...               0           603.05           2\n",
       "4      M   60     4.88  ...               0           679.84           2\n",
       "5      F   54     4.38  ...               0           509.00           2\n",
       "6      M   21    14.38  ...               0          1482.53           4\n",
       "7      M   67    10.08  ...               0           618.11           3\n",
       "8      F   49     0.63  ...               0            25.39           1\n",
       "9      M   55     6.17  ...               0          1315.92           2\n",
       "\n",
       "[10 rows x 27 columns]"
      ]
     },
     "execution_count": 10,
     "metadata": {
      "tags": []
     },
     "output_type": "execute_result"
    }
   ],
   "source": [
    "data_full.head(10)"
   ]
  },
  {
   "cell_type": "code",
   "execution_count": 0,
   "metadata": {
    "colab": {
     "base_uri": "https://localhost:8080/",
     "height": 898
    },
    "colab_type": "code",
    "id": "69dXDtrR-Lx_",
    "outputId": "7ac24ba1-213d-4d8a-ad52-470e1037a68d"
   },
   "outputs": [
    {
     "data": {
      "image/png": "[encoded data removed]",
      "text/plain": [
       "<Figure size 1440x1080 with 20 Axes>"
      ]
     },
     "metadata": {
      "tags": []
     },
     "output_type": "display_data"
    }
   ],
   "source": [
    "data_full.hist(bins=50, figsize=(20,15))\n",
    "plt.show()"
   ]
  },
  {
   "cell_type": "code",
   "execution_count": 0,
   "metadata": {
    "colab": {
     "base_uri": "https://localhost:8080/",
     "height": 554
    },
    "colab_type": "code",
    "id": "Ei9juskk-Zfj",
    "outputId": "bd02c03e-58b2-493a-dd91-fc058444088d"
   },
   "outputs": [
    {
     "data": {
      "image/png": "[encoded data removed]",
      "text/plain": [
       "<Figure size 432x288 with 1 Axes>"
      ]
     },
     "metadata": {
      "tags": []
     },
     "output_type": "display_data"
    },
    {
     "data": {
      "image/png": "[encoded data removed]",
      "text/plain": [
       "<Figure size 432x288 with 1 Axes>"
      ]
     },
     "metadata": {
      "tags": []
     },
     "output_type": "display_data"
    }
   ],
   "source": [
    "age_histogram = data_full.hist(column='age', bins=20, range=[0, 100])\n",
    "for ax in age_histogram.flatten():\n",
    "    ax.set_xlabel(\"Age\")\n",
    "    ax.set_ylabel(\"Num. of Patients\")\n",
    "plt.show()\n",
    "data_full.groupby('ExpiredHospital').size().plot.bar()\n",
    "plt.show()"
   ]
  },
  {
   "cell_type": "code",
   "execution_count": 0,
   "metadata": {
    "colab": {
     "base_uri": "https://localhost:8080/",
     "height": 141
    },
    "colab_type": "code",
    "id": "kIkX08_R-c9I",
    "outputId": "62f917ef-cfee-4343-ca11-52abb59429b7"
   },
   "outputs": [
    {
     "name": "stdout",
     "output_type": "stream",
     "text": [
      "y - Labels (58976,)\n",
      "X - No Label No id  (58976, 18)\n",
      "Index(['gender', 'age', 'admit_type', 'admit_location', 'NumCallouts',\n",
      "       'NumDiagnosis', 'NumProcs', 'NumCPTevents', 'NumInput', 'NumLabs',\n",
      "       'NumMicroLabs', 'NumNotes', 'NumOutput', 'NumRx', 'NumProcEvents',\n",
      "       'NumTransfers', 'NumChartEvents', 'TotalNumInteract'],\n",
      "      dtype='object')\n"
     ]
    }
   ],
   "source": [
    "# Label = ExpiredHospital\n",
    "y = data_full['ExpiredHospital']\n",
    "X = data_full.drop('ExpiredHospital', 1)\n",
    "\n",
    "X = X.drop('LOSdays', 1)\n",
    "X = X.drop('LOSgroupNum', 1)\n",
    "X = X.drop('AdmitDiagnosis', 1)\n",
    "X = X.drop('AdmitProcedure', 1)\n",
    "X = X.drop('marital_status', 1)\n",
    "X = X.drop('ethnicity', 1)\n",
    "X = X.drop('religion', 1)\n",
    "X = X.drop('insurance', 1)\n",
    "\n",
    "print(\"y - Labels\", y.shape)\n",
    "print(\"X - No Label No id \", X.shape)\n",
    "print(X.columns)"
   ]
  },
  {
   "cell_type": "code",
   "execution_count": 0,
   "metadata": {
    "colab": {
     "base_uri": "https://localhost:8080/",
     "height": 1000
    },
    "colab_type": "code",
    "id": "3YiLaya5-lq_",
    "outputId": "622b4f14-c724-47b2-cbfa-c80867d12d05"
   },
   "outputs": [
    {
     "data": {
      "image/png": "[encoded data removed]",
      "text/plain": [
       "<Figure size 432x288 with 1 Axes>"
      ]
     },
     "metadata": {
      "tags": []
     },
     "output_type": "display_data"
    },
    {
     "data": {
      "image/png": "[encoded data removed]",
      "text/plain": [
       "<Figure size 432x288 with 1 Axes>"
      ]
     },
     "metadata": {
      "tags": []
     },
     "output_type": "display_data"
    },
    {
     "data": {
      "image/png": "[encoded data removed]",
      "text/plain": [
       "<Figure size 432x288 with 1 Axes>"
      ]
     },
     "metadata": {
      "tags": []
     },
     "output_type": "display_data"
    }
   ],
   "source": [
    "data_full.groupby('ExpiredHospital').size().plot.bar()\n",
    "plt.show()\n",
    "data_full.groupby('admit_type').size().plot.bar()\n",
    "plt.show()\n",
    "data_full.groupby('admit_location').size().plot.bar()\n",
    "plt.show()"
   ]
  },
  {
   "cell_type": "code",
   "execution_count": 0,
   "metadata": {
    "colab": {
     "base_uri": "https://localhost:8080/",
     "height": 52
    },
    "colab_type": "code",
    "id": "CrwzlCjq-pdU",
    "outputId": "14e6d146-8a24-414d-e0d9-70181df772f1"
   },
   "outputs": [
    {
     "name": "stdout",
     "output_type": "stream",
     "text": [
      "(58976, 18)\n",
      "(58976, 30)\n"
     ]
    }
   ],
   "source": [
    "# MAP Text to Numerical Data with one-hot-encoding to convert categorical features to numerical\n",
    "\n",
    "print(X.shape)\n",
    "categorical_columns = [\n",
    "                    'gender',                     \n",
    "                    'admit_type',\n",
    "                    'admit_location'\n",
    "                      ]\n",
    "for col in categorical_columns:\n",
    "    #if the original column is present replace it with a one-hot\n",
    "    if col in X.columns:\n",
    "        one_hot_encoded = pd.get_dummies(X[col])\n",
    "        X = X.drop(col, axis=1)\n",
    "        X = X.join(one_hot_encoded, lsuffix='_left', rsuffix='_right')\n",
    "        \n",
    "print(X.shape)"
   ]
  },
  {
   "cell_type": "code",
   "execution_count": 0,
   "metadata": {
    "colab": {
     "base_uri": "https://localhost:8080/",
     "height": 194
    },
    "colab_type": "code",
    "id": "z-7BzieS-sXr",
    "outputId": "0dcf180c-cb9b-4ed8-f5d8-13b2fcc85070"
   },
   "outputs": [
    {
     "name": "stdout",
     "output_type": "stream",
     "text": [
      "Index(['age', 'NumCallouts', 'NumDiagnosis', 'NumProcs', 'NumCPTevents',\n",
      "       'NumInput', 'NumLabs', 'NumMicroLabs', 'NumNotes', 'NumOutput', 'NumRx',\n",
      "       'NumProcEvents', 'NumTransfers', 'NumChartEvents', 'TotalNumInteract',\n",
      "       'F', 'M', 'ELECTIVE', 'EMERGENCY', 'NEWBORN', 'URGENT',\n",
      "       '** INFO NOT AVAILABLE **', 'CLINIC REFERRAL/PREMATURE',\n",
      "       'EMERGENCY ROOM ADMIT', 'HMO REFERRAL/SICK',\n",
      "       'PHYS REFERRAL/NORMAL DELI', 'TRANSFER FROM HOSP/EXTRAM',\n",
      "       'TRANSFER FROM OTHER HEALT', 'TRANSFER FROM SKILLED NUR',\n",
      "       'TRSF WITHIN THIS FACILITY'],\n",
      "      dtype='object')\n"
     ]
    }
   ],
   "source": [
    "print(X.columns)\n",
    "#print(X['VENTRICULOSTOMY          '])"
   ]
  },
  {
   "cell_type": "code",
   "execution_count": 0,
   "metadata": {
    "colab": {
     "base_uri": "https://localhost:8080/",
     "height": 87
    },
    "colab_type": "code",
    "id": "Pl3G9WKu-uUp",
    "outputId": "ce798e2c-2111-4914-fbeb-cc82e0cdc0b1"
   },
   "outputs": [
    {
     "name": "stdout",
     "output_type": "stream",
     "text": [
      "(58976, 27)\n",
      "(58976, 30)\n",
      "XnotNorm  (58976, 30)\n",
      "ynotNorm  (58976,)\n"
     ]
    }
   ],
   "source": [
    "print(data_full.shape)\n",
    "print(X.shape)\n",
    "\n",
    "XnotNorm = X.copy()\n",
    "print('XnotNorm ', XnotNorm.shape)\n",
    "\n",
    "#yFI = data_full.expired_icu\n",
    "ynotNorm = y.copy()\n",
    "print('ynotNorm ', ynotNorm.shape)"
   ]
  },
  {
   "cell_type": "code",
   "execution_count": 0,
   "metadata": {
    "colab": {
     "base_uri": "https://localhost:8080/",
     "height": 265
    },
    "colab_type": "code",
    "id": "00za9RU7-ygR",
    "outputId": "087543c9-9bf1-4be7-b16d-c64b253301a3"
   },
   "outputs": [
    {
     "name": "stdout",
     "output_type": "stream",
     "text": [
      "            age  ...  TRSF WITHIN THIS FACILITY\n",
      "0     -0.691792  ...                  -0.009208\n",
      "1      0.230296  ...                  -0.009208\n",
      "2     -0.192328  ...                  -0.009208\n",
      "3      0.768180  ...                  -0.009208\n",
      "4      0.268716  ...                  -0.009208\n",
      "...         ...  ...                        ...\n",
      "58971  0.268716  ...                  -0.009208\n",
      "58972  0.191876  ...                  -0.009208\n",
      "58973 -1.152835  ...                  -0.009208\n",
      "58974  0.614499  ...                  -0.009208\n",
      "58975  1.344485  ...                  -0.009208\n",
      "\n",
      "[58976 rows x 30 columns]\n"
     ]
    }
   ],
   "source": [
    "# Normalize X\n",
    "\n",
    "x = XnotNorm.values #returns a numpy array\n",
    "scaler = preprocessing.StandardScaler()\n",
    "x_scaled = scaler.fit_transform(x)\n",
    "XNorm = pd.DataFrame(x_scaled, columns=XnotNorm.columns)\n",
    "print(XNorm)"
   ]
  },
  {
   "cell_type": "code",
   "execution_count": 0,
   "metadata": {
    "colab": {
     "base_uri": "https://localhost:8080/",
     "height": 87
    },
    "colab_type": "code",
    "id": "gIHiwysl-0TD",
    "outputId": "d700a5ae-5e23-4b43-862a-cc6204b43e08"
   },
   "outputs": [
    {
     "name": "stdout",
     "output_type": "stream",
     "text": [
      "X_train:  (53078, 30)\n",
      "X_test:  (5898, 30)\n",
      "y_train:  (53078,)\n",
      "y_test:  (5898,)\n"
     ]
    }
   ],
   "source": [
    "# SPLIT into Train & Test\n",
    "\n",
    "X_train, X_test, y_train, y_test = train_test_split(XNorm, y, test_size=0.1, random_state=42)\n",
    "print ('X_train: ', X_train.shape)\n",
    "print ('X_test: ', X_test.shape)\n",
    "print ('y_train: ', y_train.shape)\n",
    "print ('y_test: ', y_test.shape)"
   ]
  },
  {
   "cell_type": "code",
   "execution_count": 0,
   "metadata": {
    "colab": {
     "base_uri": "https://localhost:8080/",
     "height": 34
    },
    "colab_type": "code",
    "id": "1o_5cLVm-_Th",
    "outputId": "b6a2a1f2-9039-4db0-c157-a46997b72a46"
   },
   "outputs": [
    {
     "name": "stdout",
     "output_type": "stream",
     "text": [
      "RandomForest: 0.935190 (0.003109)\n"
     ]
    }
   ],
   "source": [
    "seed = 7\n",
    "scoring = 'accuracy' \n",
    "\n",
    "# Spot Check Algorithms\n",
    "Mymodels = []\n",
    "#Mymodels.append(('LogReg', LogisticRegression()))\n",
    "Mymodels.append(('RandomForest', RandomForestClassifier()))\n",
    "#Mymodels.append(('SGDclassifier', SGDClassifier()))\n",
    "#Mymodels.append(('KNearestNeighbors', KNeighborsClassifier()))\n",
    "#Mymodels.append(('DecisionTreeClassifier', DecisionTreeClassifier()))\n",
    "#Mymodels.append(('GaussianNB', GaussianNB()))\n",
    "#Mymodels.append(('SVM', SVC()))\n",
    "# Evaluate each model in turn\n",
    "results = []\n",
    "names = []\n",
    "for name, model in Mymodels:\n",
    "    kfold = model_selection.KFold(n_splits=10, random_state=seed)\n",
    "    cv_results = model_selection.cross_val_score(model, X_train, y_train, cv=kfold, scoring=scoring)\n",
    "    results.append(cv_results)\n",
    "    names.append(name)\n",
    "    msg = \"%s: %f (%f)\" % (name, cv_results.mean(), cv_results.std())\n",
    "    print(msg) "
   ]
  },
  {
   "cell_type": "code",
   "execution_count": 0,
   "metadata": {
    "colab": {},
    "colab_type": "code",
    "id": "4ZqsBQ60_FUy"
   },
   "outputs": [],
   "source": [
    "# Set the model according to above results\n",
    "\n",
    "model = RandomForestClassifier(bootstrap=True, class_weight=None, criterion='gini',\n",
    "            max_depth=None, max_features='auto', max_leaf_nodes=None,\n",
    "            min_impurity_decrease=0.0, min_impurity_split=None,\n",
    "            min_samples_leaf=1, min_samples_split=2,\n",
    "            min_weight_fraction_leaf=0.0, n_estimators=10, n_jobs=1,\n",
    "            oob_score=False, random_state=None, verbose=0,\n",
    "            warm_start=False)"
   ]
  },
  {
   "cell_type": "code",
   "execution_count": 0,
   "metadata": {
    "colab": {},
    "colab_type": "code",
    "id": "57uY2Uwr_GIR"
   },
   "outputs": [],
   "source": [
    "def plot_learning_curve(estimator, title, X, y, ylim=None, cv=None,\n",
    "                        n_jobs=1, train_sizes=np.linspace(.1, 1.0, 5)):\n",
    "    plt.figure()\n",
    "    plt.title(title)\n",
    "    if ylim is not None:\n",
    "        plt.ylim(*ylim)\n",
    "    plt.xlabel(\"Training examples\")\n",
    "    plt.ylabel(\"Error\")\n",
    "    train_sizes, train_scores, test_scores = learning_curve(\n",
    "        estimator, X, y, cv=cv, n_jobs=n_jobs, train_sizes=train_sizes)\n",
    "    train_scores_mean = 1-np.mean(train_scores, axis=1)\n",
    "    train_scores_std = np.std(train_scores, axis=1)\n",
    "    test_scores_mean = 1-np.mean(test_scores, axis=1)\n",
    "    test_scores_std = np.std(test_scores, axis=1)\n",
    "    plt.grid()\n",
    "    plt.fill_between(train_sizes, train_scores_mean - train_scores_std,\n",
    "                     train_scores_mean + train_scores_std, alpha=0.1,\n",
    "                     color=\"r\")\n",
    "    plt.fill_between(train_sizes, test_scores_mean - test_scores_std,\n",
    "                     test_scores_mean + test_scores_std, alpha=0.1, color=\"g\")\n",
    "    plt.plot(train_sizes, train_scores_mean, 'o-', color=\"r\",\n",
    "             label=\"Training score\")\n",
    "    plt.plot(train_sizes, test_scores_mean, 'o-', color=\"g\",\n",
    "             label=\"Cross-validation score\")\n",
    "\n",
    "    plt.legend(loc=\"best\")\n",
    "    return plt"
   ]
  },
  {
   "cell_type": "code",
   "execution_count": 0,
   "metadata": {
    "colab": {},
    "colab_type": "code",
    "id": "aT9S-5FW_OsI"
   },
   "outputs": [],
   "source": [
    "# LEARNING CURVES Train / Validation\n",
    "\n",
    "title = \"Learning Curves \"\n",
    "cv = ShuffleSplit(n_splits=10, test_size=0.2, random_state=0)\n",
    "plot_learning_curve(model, title, XNorm, y, cv=cv, n_jobs=5)"
   ]
  },
  {
   "cell_type": "code",
   "execution_count": 0,
   "metadata": {
    "colab": {
     "base_uri": "https://localhost:8080/",
     "height": 105
    },
    "colab_type": "code",
    "id": "HgKPENsY_VXC",
    "outputId": "fa01ddc8-ec45-4a3e-911a-a577668871b1"
   },
   "outputs": [
    {
     "name": "stdout",
     "output_type": "stream",
     "text": [
      "TN:  5266\n",
      "FP:  55\n",
      "FN:  311\n",
      "TP:  266\n",
      "0.4610051993067591 0.8286604361370716\n"
     ]
    }
   ],
   "source": [
    "# Model FINAL fit and evaluation on test\n",
    "\n",
    "model.fit(X_train, y_train)\n",
    "final_predictions = model.predict(X_test)\n",
    "\n",
    "#final_acc = accuracy(y_test, final_predictions)\n",
    "# Confusion matrix\n",
    "\n",
    "conf_mx = confusion_matrix(y_test, final_predictions)\n",
    "\n",
    "TN = conf_mx[0,0]\n",
    "FP = conf_mx[0,1]\n",
    "FN = conf_mx[1,0]\n",
    "TP = conf_mx[1,1]\n",
    "\n",
    "print ('TN: ', TN)\n",
    "print ('FP: ', FP)\n",
    "print ('FN: ', FN)\n",
    "print ('TP: ', TP)\n",
    "\n",
    "recall = TP/(TP+FN)\n",
    "precision = TP/(TP+FP)\n",
    "\n",
    "print (recall, precision)"
   ]
  },
  {
   "cell_type": "code",
   "execution_count": 0,
   "metadata": {
    "colab": {},
    "colab_type": "code",
    "id": "OyshgLWc_aV8"
   },
   "outputs": [],
   "source": [
    "def plot_confusion_matrix(cm,target_names,title='Confusion matrix',cmap=None,\n",
    "                          normalize=False):\n",
    "    import itertools\n",
    "    accuracy = np.trace(cm) / float(np.sum(cm))\n",
    "    misclass = 1 - accuracy\n",
    "\n",
    "    if cmap is None:\n",
    "        cmap = plt.get_cmap('Blues')\n",
    "\n",
    "    plt.figure(figsize=(8, 6))\n",
    "    plt.imshow(cm, interpolation='nearest', cmap=cmap)\n",
    "    plt.title(title)\n",
    "    plt.colorbar()\n",
    "\n",
    "    if target_names is not None:\n",
    "        tick_marks = np.arange(len(target_names))\n",
    "        plt.xticks(tick_marks, target_names, rotation=45)\n",
    "        plt.yticks(tick_marks, target_names)\n",
    "\n",
    "    if normalize:\n",
    "      cm = cm.astype('float') / cm.sum(axis=1)[:, np.newaxis]\n",
    "        \n",
    "    thresh = cm.max() / 1.5 if normalize else cm.max() / 2\n",
    "    for i, j in itertools.product(range(cm.shape[0]), range(cm.shape[1])):\n",
    "        if normalize:\n",
    "            plt.text(j, i, \"{:0.4f}\".format(cm[i, j]),\n",
    "                     horizontalalignment=\"center\",\n",
    "                     color=\"white\" if cm[i, j] > thresh else \"black\")\n",
    "        else:\n",
    "            plt.text(j, i, \"{:,}\".format(cm[i, j]),\n",
    "                     horizontalalignment=\"center\",\n",
    "                     color=\"white\" if cm[i, j] > thresh else \"black\")\n",
    "\n",
    "\n",
    "    plt.tight_layout()\n",
    "    plt.ylabel('True label')\n",
    "    plt.xlabel('Predicted label\\naccuracy={:0.4f}; misclass={:0.4f}'.format(accuracy, misclass))\n",
    "    plt.show()"
   ]
  },
  {
   "cell_type": "code",
   "execution_count": 0,
   "metadata": {
    "colab": {
     "base_uri": "https://localhost:8080/",
     "height": 441
    },
    "colab_type": "code",
    "id": "KcM-gJpq_i7a",
    "outputId": "6fc55f65-43cd-437e-a525-b612f4c97610"
   },
   "outputs": [
    {
     "data": {
      "image/png": "[encoded data removed]",
      "text/plain": [
       "<Figure size 576x432 with 2 Axes>"
      ]
     },
     "metadata": {
      "tags": []
     },
     "output_type": "display_data"
    }
   ],
   "source": [
    "plot_confusion_matrix(conf_mx, \n",
    "                      normalize    = False,\n",
    "                      target_names = ['lived', 'died'],\n",
    "                      title        = \"Confusion Matrix\")"
   ]
  },
  {
   "cell_type": "code",
   "execution_count": 0,
   "metadata": {
    "colab": {
     "base_uri": "https://localhost:8080/",
     "height": 87
    },
    "colab_type": "code",
    "id": "nOPfCTqH_krW",
    "outputId": "eea07fbf-bcfa-400b-b687-813f097729d5"
   },
   "outputs": [
    {
     "name": "stdout",
     "output_type": "stream",
     "text": [
      "precision  0.8287\n",
      "recall  0.461\n",
      "accuracy  0.9379\n",
      "F1 score  0.5924\n"
     ]
    }
   ],
   "source": [
    "print ('precision ',round(precision_score(y_test, final_predictions),4))\n",
    "print ('recall ',round(recall_score(y_test, final_predictions) ,4))\n",
    "print ('accuracy ',round(accuracy_score(y_test, final_predictions),4))\n",
    "print ('F1 score ',round(f1_score(y_test, final_predictions),4))"
   ]
  },
  {
   "cell_type": "code",
   "execution_count": 0,
   "metadata": {
    "colab": {
     "base_uri": "https://localhost:8080/",
     "height": 1000
    },
    "colab_type": "code",
    "id": "ZUamZ6IS_oIp",
    "outputId": "2fa88f59-5e24-42f9-8262-15505aa1e686"
   },
   "outputs": [
    {
     "data": {
      "image/png": "[encoded data removed]",
      "text/plain": [
       "<Figure size 1080x1800 with 1 Axes>"
      ]
     },
     "metadata": {
      "tags": []
     },
     "output_type": "display_data"
    }
   ],
   "source": [
    "# FEATURE IMPORTANCE \n",
    "\n",
    "trainFinalFI = XNorm\n",
    "yFinalFI = y\n",
    "model.fit(trainFinalFI,yFinalFI)\n",
    "\n",
    "FI_model = pd.DataFrame({\"Feature Importance\":model.feature_importances_,}, index=trainFinalFI.columns)\n",
    "FI_model[FI_model[\"Feature Importance\"] > 0.01].sort_values(\"Feature Importance\").plot(kind=\"barh\",figsize=(15,25))\n",
    "plt.xticks(rotation=90)\n",
    "plt.xticks(rotation=90)\n",
    "plt.show()"
   ]
  },
  {
   "cell_type": "code",
   "execution_count": 0,
   "metadata": {
    "colab": {
     "base_uri": "https://localhost:8080/",
     "height": 425
    },
    "colab_type": "code",
    "id": "X2XPHc_m_rwU",
    "outputId": "0f4d2746-d3c6-440f-9f5e-f878504bb9b4"
   },
   "outputs": [
    {
     "name": "stdout",
     "output_type": "stream",
     "text": [
      "                           Feature Importance\n",
      "TotalNumInteract                     0.131920\n",
      "NumChartEvents                       0.112892\n",
      "NumLabs                              0.110034\n",
      "NumInput                             0.074962\n",
      "NumCPTevents                         0.063982\n",
      "age                                  0.057411\n",
      "NumRx                                0.055515\n",
      "NumMicroLabs                         0.054679\n",
      "NumNotes                             0.054261\n",
      "NumDiagnosis                         0.050535\n",
      "NumTransfers                         0.045394\n",
      "NumProcs                             0.044268\n",
      "NumOutput                            0.043219\n",
      "NumCallouts                          0.035192\n",
      "NumProcEvents                        0.021447\n",
      "EMERGENCY                            0.006386\n",
      "EMERGENCY ROOM ADMIT                 0.006271\n",
      "F                                    0.005893\n",
      "M                                    0.005823\n",
      "TRANSFER FROM HOSP/EXTRAM            0.005246\n",
      "CLINIC REFERRAL/PREMATURE            0.003981\n",
      "PHYS REFERRAL/NORMAL DELI            0.003423\n"
     ]
    }
   ],
   "source": [
    "# List of important features for model\n",
    "FI_model = pd.DataFrame({\"Feature Importance\":model.feature_importances_,}, index=trainFinalFI.columns)\n",
    "FI_model=FI_model.sort_values('Feature Importance', ascending = False)\n",
    "print(FI_model[FI_model[\"Feature Importance\"] > 0.0025])"
   ]
  },
  {
   "cell_type": "code",
   "execution_count": 0,
   "metadata": {
    "colab": {
     "base_uri": "https://localhost:8080/",
     "height": 312
    },
    "colab_type": "code",
    "id": "AY_UakS__xvI",
    "outputId": "1ae8c772-1401-4c44-93c9-423ee1922eaf"
   },
   "outputs": [
    {
     "name": "stdout",
     "output_type": "stream",
     "text": [
      "AUC: 0.725\n"
     ]
    },
    {
     "data": {
      "image/png": "[encoded data removed]",
      "text/plain": [
       "<Figure size 432x288 with 1 Axes>"
      ]
     },
     "metadata": {
      "tags": []
     },
     "output_type": "display_data"
    }
   ],
   "source": [
    "# AUC/ROC curves should be used when there are roughly equal numbers of observations for each class\n",
    "# Precision-Recall curves should be used when there is a moderate to large class imbalance\n",
    "\n",
    "# calculate AUC\n",
    "auc = roc_auc_score(y_test, final_predictions)\n",
    "print('AUC: %.3f' % auc)\n",
    "# calculate roc curve\n",
    "fpr, tpr, thresholds = roc_curve(y_test, final_predictions)\n",
    "# plot no skill\n",
    "plt.plot([0, 1], [0, 1], linestyle='--')\n",
    "# plot the roc curve for the model\n",
    "plt.plot(fpr, tpr, marker='.')\n",
    "plt.title('AUC for ROC')\n",
    "plt.xlabel('False Positive Rate')\n",
    "plt.ylabel('True Positive Rate')\n",
    "plt.show()"
   ]
  },
  {
   "cell_type": "code",
   "execution_count": 0,
   "metadata": {
    "colab": {
     "base_uri": "https://localhost:8080/",
     "height": 282
    },
    "colab_type": "code",
    "id": "P8BgZOY2_zm3",
    "outputId": "f7084409-481d-45df-b327-7459996eb297"
   },
   "outputs": [
    {
     "name": "stdout",
     "output_type": "stream",
     "text": [
      "f1=0.592\n"
     ]
    },
    {
     "data": {
      "image/png": "[encoded data removed]",
      "text/plain": [
       "<Figure size 432x288 with 1 Axes>"
      ]
     },
     "metadata": {
      "tags": []
     },
     "output_type": "display_data"
    }
   ],
   "source": [
    "# Modify the raw final_predictions - prediction probs into 0 and 1\n",
    "\n",
    "Preds = final_predictions.copy()\n",
    "#print(len(Preds))\n",
    "#print(Preds)\n",
    "Preds[ np.where( Preds >= 0.5 ) ] = 1\n",
    "Preds[ np.where( Preds < 0.5 ) ] = 0\n",
    "\n",
    "# calculate precision-recall curve\n",
    "precision, recall, thresholds = precision_recall_curve(y_test, Preds)\n",
    "# calculate F1 score\n",
    "f1 = f1_score(y_test, Preds)\n",
    "print('f1=%.3f' % (f1))\n",
    "# plot no skill\n",
    "plt.plot([0, 1], [0.5, 0.5], linestyle='--')\n",
    "# plot the roc curve for the model\n",
    "plt.plot(recall, precision, marker='.')\n",
    "# show the plot\n",
    "plt.show()"
   ]
  },
  {
   "cell_type": "code",
   "execution_count": 0,
   "metadata": {
    "colab": {},
    "colab_type": "code",
    "id": "-K3M76VU_2VL"
   },
   "outputs": [],
   "source": [
    "# NN MODEL\n",
    "\n",
    "# Use of DROPOUT\n",
    "model = models.Sequential()\n",
    "model.add(layers.Dense(2048, activation='relu', kernel_regularizer=regularizers.l2(0.001), input_shape=(30,)))\n",
    "#model.add(layers.BatchNormalization())\n",
    "model.add(layers.Dense(2048, activation='relu', kernel_regularizer=regularizers.l2(0.001)))\n",
    "model.add(layers.Dropout(0.5))\n",
    "model.add(layers.Dense(2048, activation='relu', kernel_regularizer=regularizers.l2(0.001)))\n",
    "model.add(layers.Dropout(0.5))\n",
    "model.add(layers.Dense(1, activation='sigmoid'))\n",
    "print(model.summary())\n",
    "\n",
    "# FIT / TRAIN model\n",
    "\n",
    "NumEpochs = 100\n",
    "BatchSize = 16\n",
    "\n",
    "model.compile(optimizer=optimizers.Adam(lr=1e-5), loss='binary_crossentropy', metrics=['binary_accuracy'])\n",
    "history = model.fit(X_train, y_train, epochs=NumEpochs, batch_size=BatchSize, validation_data=(X_test, y_test))\n",
    "\n",
    "results = model.evaluate(X_test, y_test)\n",
    "print(\"_\"*100)\n",
    "print(\"Test Loss and Accuracy\")\n",
    "print(\"results \", results)\n",
    "history_dict = history.history\n",
    "history_dict.keys()"
   ]
  },
  {
   "cell_type": "code",
   "execution_count": 0,
   "metadata": {
    "colab": {},
    "colab_type": "code",
    "id": "jt7n7oXWADfS"
   },
   "outputs": [],
   "source": [
    "# VALIDATION LOSS curves\n",
    "\n",
    "plt.clf()\n",
    "history_dict = history.history\n",
    "loss_values = history_dict['loss']\n",
    "val_loss_values = history_dict['val_loss']\n",
    "epochs = range(1, (len(history_dict['loss']) + 1))\n",
    "plt.plot(epochs, loss_values, 'bo', label='Training loss')\n",
    "plt.plot(epochs, val_loss_values, 'r', label='Validation loss')\n",
    "plt.title('Training and validation loss')\n",
    "plt.xlabel('Epochs')\n",
    "plt.ylabel('Loss')\n",
    "plt.legend()\n",
    "plt.show()\n",
    "\n",
    "# VALIDATION ACCURACY curves\n",
    "\n",
    "plt.clf()\n",
    "acc_values = history_dict['binary_accuracy']\n",
    "val_acc_values = history_dict['val_binary_accuracy']\n",
    "epochs = range(1, (len(history_dict['binary_accuracy']) + 1))\n",
    "plt.plot(epochs, acc_values, 'bo', label='Training acc')\n",
    "plt.plot(epochs, val_acc_values, 'r', label='Validation acc')\n",
    "plt.title('Training and validation accuracy')\n",
    "plt.xlabel('Epochs')\n",
    "plt.ylabel('Accuracy')\n",
    "plt.legend()\n",
    "plt.show()"
   ]
  }
 ],
 "metadata": {
  "colab": {
   "collapsed_sections": [],
   "name": "icuData.ipynb",
   "provenance": []
  },
  "kernelspec": {
   "display_name": "Python 3",
   "language": "python",
   "name": "python3"
  },
  "language_info": {
   "codemirror_mode": {
    "name": "ipython",
    "version": 3
   },
   "file_extension": ".py",
   "mimetype": "text/x-python",
   "name": "python",
   "nbconvert_exporter": "python",
   "pygments_lexer": "ipython3",
   "version": "3.7.3"
  }
 },
 "nbformat": 4,
 "nbformat_minor": 1
}
